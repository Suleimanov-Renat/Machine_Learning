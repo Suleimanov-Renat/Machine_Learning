{
 "cells": [
  {
   "cell_type": "code",
   "execution_count": 3,
   "metadata": {},
   "outputs": [
    {
     "name": "stdout",
     "output_type": "stream",
     "text": [
      "1\n",
      "0\n",
      "({0: 0.5333333333333333, 1: 0.4666666666666667}, {(0, 'путевки'): 0.125, (0, 'низкой'): 0.125, (0, 'цене'): 0.125, (0, 'акция'): 0.125, (0, 'купи'): 0.125, (0, 'шоколадку'): 0.125, (0, 'получи'): 0.125, (0, 'телефон'): 0.125, (1, 'завтра'): 0.14285714285714285, (1, 'состоится'): 0.14285714285714285, (1, 'собрание'): 0.14285714285714285, (1, 'купи'): 0.14285714285714285, (1, 'килограмм'): 0.14285714285714285, (1, 'яблок'): 0.14285714285714285, (1, 'шоколадку'): 0.14285714285714285})\n"
     ]
    }
   ],
   "source": [
    "import math\n",
    "\n",
    "\n",
    "spam = [\"Путевки по низкой цене\", \"Акция! Купи шоколадку и получи телефон\"]\n",
    "imp = [\"Завтра состоится собрание\", \"Купи килограмм яблок и шоколадку\"]\n",
    "noise = ['!', '?', '.', ',', ':', ';']\n",
    "test = [\"В магазине гора яблок. Купи семь килограмм и шоколадку\"]\n",
    "\n",
    "def make_dict(list1):\n",
    "    result = []\n",
    "    for sent in list1:\n",
    "        words = sent.split()\n",
    "        for word in words:\n",
    "            for n in noise:\n",
    "                word = word.replace(n, '')\n",
    "            if len(word) > 3:\n",
    "                result.append(word.lower())\n",
    "    return result\n",
    "\n",
    "dataset = []\n",
    "for item in make_dict(spam):\n",
    "    dataset.append(([item], 0))\n",
    "\n",
    "for item in make_dict(imp):\n",
    "    dataset.append(([item], 1))\n",
    "\n",
    "def fit(dataset, alpha):\n",
    "    classes, freq, tot = {}, {}, set()\n",
    "    for feats, label in dataset:\n",
    "        if label not in classes:\n",
    "            classes[label] = 0\n",
    "        classes[label] += 1\n",
    "        for feat in feats:\n",
    "            if (label, feat) not in freq:\n",
    "                freq[(label, feat)] = 0\n",
    "            freq[(label, feat)] += 1\n",
    "        tot.add(tuple(feats))\n",
    "\n",
    "    for label, feat in freq:\n",
    "        freq[(label, feat)] = (alpha + freq[(label, feat)]) / (alpha*len(tot) + classes[label])\n",
    "    for c in classes:\n",
    "        classes[c] /= len(dataset)\n",
    "\n",
    "    return classes, freq\n",
    "\n",
    "classifier = fit(dataset, 0)\n",
    "\n",
    "def classify(classifier, features):\n",
    "    classes, freq = classifier\n",
    "    return min(classes.keys(), key=lambda cls: -math.log(classes[cls]) + sum(\n",
    "        -math.log(freq.get((cls, feat), 10 ** (-7))) for feat in features))\n",
    "\n",
    "print(classify(classifier, make_dict(test)))\n",
    "print(classify(classifier, make_dict([\"Акция! Купи\"])))\n",
    "\n",
    "\n",
    "from sklearn.externals import joblib\n",
    "joblib.dump(classifier, 'data/dicts.pkl')\n",
    "\n",
    "\n",
    "classifier = joblib.load('data/dicts.pkl')\n",
    "print(classifier)"
   ]
  }
 ],
 "metadata": {
  "kernelspec": {
   "display_name": "Python 3",
   "language": "python",
   "name": "python3"
  },
  "language_info": {
   "codemirror_mode": {
    "name": "ipython",
    "version": 3
   },
   "file_extension": ".py",
   "mimetype": "text/x-python",
   "name": "python",
   "nbconvert_exporter": "python",
   "pygments_lexer": "ipython3",
   "version": "3.6.2"
  }
 },
 "nbformat": 4,
 "nbformat_minor": 2
}
