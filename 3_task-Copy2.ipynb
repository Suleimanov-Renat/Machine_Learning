{
 "cells": [
  {
   "cell_type": "code",
   "execution_count": 535,
   "metadata": {
    "collapsed": true
   },
   "outputs": [],
   "source": [
    "# Importing libraries\n",
    "import pandas as pd\n",
    "import numpy as np\n",
    "from sklearn.cluster import KMeans\n",
    "import matplotlib.pyplot as plt  \n",
    "%matplotlib inline"
   ]
  },
  {
   "cell_type": "code",
   "execution_count": 536,
   "metadata": {},
   "outputs": [
    {
     "data": {
      "text/html": [
       "<div>\n",
       "<style scoped>\n",
       "    .dataframe tbody tr th:only-of-type {\n",
       "        vertical-align: middle;\n",
       "    }\n",
       "\n",
       "    .dataframe tbody tr th {\n",
       "        vertical-align: top;\n",
       "    }\n",
       "\n",
       "    .dataframe thead th {\n",
       "        text-align: right;\n",
       "    }\n",
       "</style>\n",
       "<table border=\"1\" class=\"dataframe\">\n",
       "  <thead>\n",
       "    <tr style=\"text-align: right;\">\n",
       "      <th></th>\n",
       "      <th>V1</th>\n",
       "      <th>V2</th>\n",
       "    </tr>\n",
       "  </thead>\n",
       "  <tbody>\n",
       "    <tr>\n",
       "      <th>0</th>\n",
       "      <td>71.04987</td>\n",
       "      <td>-2.683244</td>\n",
       "    </tr>\n",
       "    <tr>\n",
       "      <th>1</th>\n",
       "      <td>83.78762</td>\n",
       "      <td>26.497330</td>\n",
       "    </tr>\n",
       "    <tr>\n",
       "      <th>2</th>\n",
       "      <td>74.85747</td>\n",
       "      <td>-5.059505</td>\n",
       "    </tr>\n",
       "    <tr>\n",
       "      <th>3</th>\n",
       "      <td>77.72216</td>\n",
       "      <td>6.093524</td>\n",
       "    </tr>\n",
       "    <tr>\n",
       "      <th>4</th>\n",
       "      <td>68.97789</td>\n",
       "      <td>-4.123292</td>\n",
       "    </tr>\n",
       "  </tbody>\n",
       "</table>\n",
       "</div>"
      ],
      "text/plain": [
       "         V1         V2\n",
       "0  71.04987  -2.683244\n",
       "1  83.78762  26.497330\n",
       "2  74.85747  -5.059505\n",
       "3  77.72216   6.093524\n",
       "4  68.97789  -4.123292"
      ]
     },
     "execution_count": 536,
     "metadata": {},
     "output_type": "execute_result"
    }
   ],
   "source": [
    "data = pd.read_csv(\"xclara_min.csv\")\n",
    "data.head() "
   ]
  },
  {
   "cell_type": "code",
   "execution_count": 537,
   "metadata": {},
   "outputs": [
    {
     "data": {
      "text/plain": [
       "<matplotlib.collections.PathCollection at 0x2210cd79940>"
      ]
     },
     "execution_count": 537,
     "metadata": {},
     "output_type": "execute_result"
    },
    {
     "data": {
      "image/png": "[encoded data removed]",
      "text/plain": [
       "<matplotlib.figure.Figure at 0x2210b41d0b8>"
      ]
     },
     "metadata": {},
     "output_type": "display_data"
    }
   ],
   "source": [
    "df = pd.DataFrame(np.random.randn(100, 2))\n",
    "msk = np.random.rand(len(df)) < 0.8\n",
    "train = df[msk]\n",
    "test = df[~msk]\n",
    "X = np.array(train)\n",
    "plt.scatter(X[:,0],X[:,1], label='True Position')  "
   ]
  },
  {
   "cell_type": "code",
   "execution_count": 538,
   "metadata": {},
   "outputs": [
    {
     "data": {
      "text/plain": [
       "<matplotlib.collections.PathCollection at 0x2210cdd6828>"
      ]
     },
     "execution_count": 538,
     "metadata": {},
     "output_type": "execute_result"
    },
    {
     "data": {
      "image/png": "[encoded data removed]",
      "text/plain": [
       "<matplotlib.figure.Figure at 0x2210b915c88>"
      ]
     },
     "metadata": {},
     "output_type": "display_data"
    }
   ],
   "source": [
    "kmeans = KMeans(n_clusters=3, random_state=0).fit(train)\n",
    "centrs = kmeans.cluster_centers_\n",
    "X = np.array(train)\n",
    "plt.scatter(X[:,0],X[:,1], c=kmeans.labels_, cmap='rainbow')  \n",
    "plt.scatter(centrs[:,0],centrs[:,1], c='yellow', cmap='rainbow')  \n",
    "X1 = np.array(test)\n",
    "plt.scatter(X1[:,0],X1[:,1], label='True Position', c = 'black')"
   ]
  },
  {
   "cell_type": "code",
   "execution_count": 539,
   "metadata": {
    "collapsed": true
   },
   "outputs": [],
   "source": [
    "def distance(instance1, instance2):\n",
    "    instance1 = np.array(instance1) \n",
    "    instance2 = np.array(instance2) \n",
    "    return np.linalg.norm(instance1 - instance2)"
   ]
  },
  {
   "cell_type": "code",
   "execution_count": 540,
   "metadata": {},
   "outputs": [],
   "source": [
    "# Euclidean Distance Caculator\n",
    "def dist(a, b, ax=1):\n",
    "    return np.linalg.norm(a - b, axis=ax)"
   ]
  },
  {
   "cell_type": "code",
   "execution_count": 541,
   "metadata": {},
   "outputs": [],
   "source": [
    "dists = []\n",
    "\n",
    "def getNearestDot(X, item, clusters):\n",
    "    min = 100\n",
    "    itr = 0\n",
    "    for iterr in range(len(X)):\n",
    "        trydist = distance(X[iterr], item)\n",
    "        if trydist < min:\n",
    "            min = trydist\n",
    "            itr = iterr\n",
    "        #print(iterr, item, trydist)\n",
    "    return [min, itr, clusters[itr]]\n",
    "\n",
    "def recalcCnts(C, X, labels):\n",
    "    k = 0\n",
    "    while k < 3:\n",
    "        C_old = np.zeros(C.shape)\n",
    "        error = dist(C, C_old, None)\n",
    "        while error != 0:\n",
    "            C_old = C\n",
    "            points = [X[j] for j in range(len(X)) if labels[j] == k]\n",
    "            C = np.mean(points, axis=0)\n",
    "            error = dist(C, C_old, None)\n",
    "        k += 1\n",
    "    return centrs\n",
    "trains = X\n",
    "labs = kmeans.labels_\n",
    "centrs2 = centrs\n",
    "for item in X1:\n",
    "    min, itr, cent = getNearestDot(trains, item, labs)\n",
    "    np.append(trains, item)\n",
    "    np.append(labs, cent)\n",
    "    centrs2 = recalcCnts(centrs2, trains, labs)"
   ]
  },
  {
   "cell_type": "code",
   "execution_count": 542,
   "metadata": {},
   "outputs": [
    {
     "data": {
      "text/plain": [
       "<matplotlib.collections.PathCollection at 0x2210ce3c2e8>"
      ]
     },
     "execution_count": 542,
     "metadata": {},
     "output_type": "execute_result"
    },
    {
     "data": {
      "image/png": "[encoded data removed]",
      "text/plain": [
       "<matplotlib.figure.Figure at 0x2210cd86080>"
      ]
     },
     "metadata": {},
     "output_type": "display_data"
    }
   ],
   "source": [
    "plt.scatter(trains[:,0],trains[:,1], c=labs, cmap='rainbow')  \n",
    "plt.scatter(centrs2[:,0],centrs2[:,1], c='yellow', cmap='rainbow')  "
   ]
  },
  {
   "cell_type": "code",
   "execution_count": null,
   "metadata": {},
   "outputs": [],
   "source": []
  }
 ],
 "metadata": {
  "kernelspec": {
   "display_name": "Python 3",
   "language": "python",
   "name": "python3"
  },
  "language_info": {
   "codemirror_mode": {
    "name": "ipython",
    "version": 3
   },
   "file_extension": ".py",
   "mimetype": "text/x-python",
   "name": "python",
   "nbconvert_exporter": "python",
   "pygments_lexer": "ipython3",
   "version": "3.6.2"
  }
 },
 "nbformat": 4,
 "nbformat_minor": 2
}
